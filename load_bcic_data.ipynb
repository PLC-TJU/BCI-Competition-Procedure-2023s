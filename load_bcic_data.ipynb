{
 "cells": [
  {
   "cell_type": "code",
   "execution_count": 3,
   "metadata": {},
   "outputs": [
    {
     "name": "stdout",
     "output_type": "stream",
     "text": [
      "(90, 59, 4000)\n",
      "(90,)\n",
      "(90, 59, 4000)\n",
      "(90,)\n",
      "(90, 59, 4000)\n",
      "(90,)\n",
      "(90, 59, 4000)\n",
      "(90,)\n",
      "(90, 59, 4000)\n",
      "(90,)\n",
      "(90, 59, 4000)\n",
      "(90,)\n",
      "(90, 59, 4000)\n",
      "(90,)\n",
      "(90, 59, 4000)\n",
      "(90,)\n"
     ]
    }
   ],
   "source": [
    "from scipy.io import savemat\n",
    "import os\n",
    "from loaddata import LoadData\n",
    "\n",
    "filepath = r'E:\\工作进展\\2023BCI-MI竞赛\\20230608\\Offline Modeling\\TrainData\\C'\n",
    "newfilepath = r'E:\\工作进展\\2023BCI-MI竞赛\\20230608\\Offline Modeling\\TrainData\\BCIC2023_MI_C'\n",
    "\n",
    "if not os.path.exists(newfilepath):\n",
    "    os.makedirs(newfilepath)\n",
    "\n",
    "dataA = LoadData(filepath, fs=1000)\n",
    "subjects = dataA.subject_list\n",
    "datas, labels = dataA.get_data(subjects)\n",
    "\n",
    "classes = {'1': 'Left Hand MI', '2': 'Right Hand MI', '3': 'Feet MI'}\n",
    "\n",
    "for subject in subjects:\n",
    "    data, label = datas[subject-1], labels[subject-1]\n",
    "    print(data.shape)\n",
    "    print(label.shape)\n",
    "    \n",
    "    # 将数据保存为mat文件\n",
    "    savemat(newfilepath + '/subject'+str(subject)+'.mat', {'data': data, 'label': label, 'fs': 1000})"
   ]
  }
 ],
 "metadata": {
  "kernelspec": {
   "display_name": "Python 3",
   "language": "python",
   "name": "python3"
  },
  "language_info": {
   "codemirror_mode": {
    "name": "ipython",
    "version": 3
   },
   "file_extension": ".py",
   "mimetype": "text/x-python",
   "name": "python",
   "nbconvert_exporter": "python",
   "pygments_lexer": "ipython3",
   "version": "3.10.11"
  }
 },
 "nbformat": 4,
 "nbformat_minor": 2
}
